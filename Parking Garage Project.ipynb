{
 "cells": [
  {
   "cell_type": "markdown",
   "metadata": {},
   "source": [
    "# Parking Garage Project\n",
    "\n",
    "Your assignment for today is to create a parking garage class to get more familiar with Object Oriented Programming(OOP). \n",
    "\n",
    "Your parking gargage class should have the following methods:\n",
    "- takeTicket\n",
    "   - This should decrease the amount of tickets available by 1\n",
    "   - This should decrease the amount of parkingSpaces available by 1\n",
    "- payForParking\n",
    "   - Display an input that waits for an amount from the user and store it in a variable\n",
    "   - If the payment variable is not empty then ->  display a message to the user that their ticket has been paid and they have 15mins to leave\n",
    "   - This should update the \"currentTicket\" dictionary key \"paid\" to True\n",
    "-leaveGarage\n",
    "   - If the ticket has been paid, display a message of \"Thank You, have a nice day\"\n",
    "   - If the ticket has not been paid, display an input prompt for payment\n",
    "      - Once paid, display message \"Thank you, have a nice day!\"\n",
    "   - Update parkingSpaces list to increase by 1\n",
    "   - Update tickets list to increase by 1\n",
    "\n",
    "You will need a few attributes as well:\n",
    "- tickets -> list\n",
    "- parkingSpaces -> list\n",
    "- currentTicket -> dictionary"
   ]
  },
  {
   "cell_type": "code",
   "execution_count": 2,
   "metadata": {},
   "outputs": [],
   "source": [
    "class ParkingGarage:\n",
    "    def __init__(self, tickets, parkingSpaces):\n",
    "        self.tickets = tickets\n",
    "        self.parkingSpaces = parkingSpaces\n",
    "        self.currentTicket = {}\n",
    "\n",
    "    def takeTicket(self):\n",
    "        self.tickets -= 1\n",
    "        self.parkingSpaces -= 1\n",
    "\n",
    "    def payForParking(self):\n",
    "        payment = input(\"Please enter your payment amount: \")\n",
    "        if payment:\n",
    "            print(\"Your ticket has been paid. You have 15 minutes to leave.\")\n",
    "            self.currentTicket[\"paid\"] = True\n",
    "\n",
    "    def leaveGarage(self):\n",
    "        if self.currentTicket.get(\"paid\"):\n",
    "            print(\"Thank You, have a nice day\")\n",
    "        else:\n",
    "            payment = input(\"Please pay for your ticket: \")\n",
    "            if payment:\n",
    "                print(\"Thank you, have a nice day!\")\n",
    "                self.currentTicket[\"paid\"] = True\n",
    "        self.parkingSpaces += 1\n",
    "        self.tickets += 1\n",
    "\n",
    "# Initialize a parking garage with 10 tickets and 10 parking spaces\n",
    "parking_garage = ParkingGarage(10, 10)\n"
   ]
  }
 ],
 "metadata": {
  "kernelspec": {
   "display_name": "Python 3",
   "language": "python",
   "name": "python3"
  },
  "language_info": {
   "codemirror_mode": {
    "name": "ipython",
    "version": 3
   },
   "file_extension": ".py",
   "mimetype": "text/x-python",
   "name": "python",
   "nbconvert_exporter": "python",
   "pygments_lexer": "ipython3",
   "version": "3.10.6"
  }
 },
 "nbformat": 4,
 "nbformat_minor": 2
}
